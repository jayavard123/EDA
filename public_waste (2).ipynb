{
 "cells": [
  {
   "cell_type": "markdown",
   "id": "eb03e644",
   "metadata": {},
   "source": [
    "##  Importing Libraries"
   ]
  },
  {
   "cell_type": "code",
   "execution_count": 1,
   "id": "d0ae7495",
   "metadata": {},
   "outputs": [],
   "source": [
    "import numpy as np\n",
    "import pandas as pd\n",
    "import seaborn as sns\n",
    "import matplotlib.pyplot as plt\n",
    "%matplotlib inline\n",
    "pd.options.mode.chained_assignment = None"
   ]
  },
  {
   "cell_type": "code",
   "execution_count": 2,
   "id": "90fd31ed",
   "metadata": {},
   "outputs": [],
   "source": [
    "from sklearn.preprocessing import LabelEncoder\n",
    "from sklearn.model_selection import train_test_split\n",
    "from sklearn.tree import DecisionTreeRegressor\n",
    "from sklearn.ensemble import RandomForestRegressor\n",
    "from sklearn.linear_model import LinearRegression\n",
    "from sklearn.metrics import r2_score,accuracy_score"
   ]
  },
  {
   "cell_type": "markdown",
   "id": "08041190",
   "metadata": {},
   "source": [
    "## Data Exploration"
   ]
  },
  {
   "cell_type": "markdown",
   "id": "64005f36",
   "metadata": {},
   "source": [
    "#### Reading the files"
   ]
  },
  {
   "cell_type": "code",
   "execution_count": 3,
   "id": "bc2f29bd",
   "metadata": {},
   "outputs": [],
   "source": [
    "data = pd.read_csv(\"public_data_waste_fee.csv\")"
   ]
  },
  {
   "cell_type": "code",
   "execution_count": 4,
   "id": "8c8e77ee",
   "metadata": {},
   "outputs": [
    {
     "data": {
      "text/plain": [
       "(4341, 39)"
      ]
     },
     "execution_count": 4,
     "metadata": {},
     "output_type": "execute_result"
    }
   ],
   "source": [
    "data.shape"
   ]
  },
  {
   "cell_type": "code",
   "execution_count": 5,
   "id": "92b258cf",
   "metadata": {},
   "outputs": [
    {
     "data": {
      "text/html": [
       "<div>\n",
       "<style scoped>\n",
       "    .dataframe tbody tr th:only-of-type {\n",
       "        vertical-align: middle;\n",
       "    }\n",
       "\n",
       "    .dataframe tbody tr th {\n",
       "        vertical-align: top;\n",
       "    }\n",
       "\n",
       "    .dataframe thead th {\n",
       "        text-align: right;\n",
       "    }\n",
       "</style>\n",
       "<table border=\"1\" class=\"dataframe\">\n",
       "  <thead>\n",
       "    <tr style=\"text-align: right;\">\n",
       "      <th></th>\n",
       "      <th>region</th>\n",
       "      <th>province</th>\n",
       "      <th>name</th>\n",
       "      <th>tc</th>\n",
       "      <th>cres</th>\n",
       "      <th>csor</th>\n",
       "      <th>istat</th>\n",
       "      <th>area</th>\n",
       "      <th>pop</th>\n",
       "      <th>alt</th>\n",
       "      <th>...</th>\n",
       "      <th>msw</th>\n",
       "      <th>sor</th>\n",
       "      <th>geo</th>\n",
       "      <th>roads</th>\n",
       "      <th>s_wteregio</th>\n",
       "      <th>s_landfill</th>\n",
       "      <th>gdp</th>\n",
       "      <th>proads</th>\n",
       "      <th>wage</th>\n",
       "      <th>finance</th>\n",
       "    </tr>\n",
       "  </thead>\n",
       "  <tbody>\n",
       "    <tr>\n",
       "      <th>0</th>\n",
       "      <td>Emilia_Romagna</td>\n",
       "      <td>Ferrara</td>\n",
       "      <td>Comacchio</td>\n",
       "      <td>502.250000</td>\n",
       "      <td>129.270004</td>\n",
       "      <td>66.419998</td>\n",
       "      <td>38006</td>\n",
       "      <td>283.750000</td>\n",
       "      <td>22648</td>\n",
       "      <td>1.0</td>\n",
       "      <td>...</td>\n",
       "      <td>33956781</td>\n",
       "      <td>60.07</td>\n",
       "      <td>3.0</td>\n",
       "      <td>285.0</td>\n",
       "      <td>33.105049</td>\n",
       "      <td>15.233530</td>\n",
       "      <td>7.269942</td>\n",
       "      <td>4.354818</td>\n",
       "      <td>9.438692</td>\n",
       "      <td>7.488041</td>\n",
       "    </tr>\n",
       "    <tr>\n",
       "      <th>1</th>\n",
       "      <td>Emilia_Romagna</td>\n",
       "      <td>Ferrara</td>\n",
       "      <td>Lagosanto</td>\n",
       "      <td>228.050003</td>\n",
       "      <td>49.520000</td>\n",
       "      <td>44.139999</td>\n",
       "      <td>38011</td>\n",
       "      <td>34.439999</td>\n",
       "      <td>4952</td>\n",
       "      <td>1.0</td>\n",
       "      <td>...</td>\n",
       "      <td>2411867</td>\n",
       "      <td>75.93</td>\n",
       "      <td>3.0</td>\n",
       "      <td>11.0</td>\n",
       "      <td>33.105049</td>\n",
       "      <td>15.233530</td>\n",
       "      <td>7.109984</td>\n",
       "      <td>6.082588</td>\n",
       "      <td>9.510139</td>\n",
       "      <td>7.323284</td>\n",
       "    </tr>\n",
       "    <tr>\n",
       "      <th>2</th>\n",
       "      <td>Emilia_Romagna</td>\n",
       "      <td>Ferrara</td>\n",
       "      <td>Goro</td>\n",
       "      <td>268.010010</td>\n",
       "      <td>50.610001</td>\n",
       "      <td>44.599998</td>\n",
       "      <td>38025</td>\n",
       "      <td>26.620001</td>\n",
       "      <td>3895</td>\n",
       "      <td>1.0</td>\n",
       "      <td>...</td>\n",
       "      <td>2159322</td>\n",
       "      <td>78.49</td>\n",
       "      <td>3.0</td>\n",
       "      <td>49.0</td>\n",
       "      <td>33.105049</td>\n",
       "      <td>15.233530</td>\n",
       "      <td>7.267856</td>\n",
       "      <td>4.335555</td>\n",
       "      <td>8.891356</td>\n",
       "      <td>7.485891</td>\n",
       "    </tr>\n",
       "    <tr>\n",
       "      <th>3</th>\n",
       "      <td>Emilia_Romagna</td>\n",
       "      <td>Ferrara</td>\n",
       "      <td>Mesola</td>\n",
       "      <td>199.089996</td>\n",
       "      <td>41.110001</td>\n",
       "      <td>40.439999</td>\n",
       "      <td>38014</td>\n",
       "      <td>84.300003</td>\n",
       "      <td>7140</td>\n",
       "      <td>1.0</td>\n",
       "      <td>...</td>\n",
       "      <td>3651915</td>\n",
       "      <td>78.89</td>\n",
       "      <td>3.0</td>\n",
       "      <td>165.0</td>\n",
       "      <td>33.105049</td>\n",
       "      <td>15.233530</td>\n",
       "      <td>7.085936</td>\n",
       "      <td>3.710479</td>\n",
       "      <td>9.433685</td>\n",
       "      <td>7.298514</td>\n",
       "    </tr>\n",
       "    <tr>\n",
       "      <th>4</th>\n",
       "      <td>Puglia</td>\n",
       "      <td>Barletta-Andria-Trani</td>\n",
       "      <td>Margherita di Savoia</td>\n",
       "      <td>233.639999</td>\n",
       "      <td>58.270000</td>\n",
       "      <td>25.950001</td>\n",
       "      <td>110005</td>\n",
       "      <td>35.700001</td>\n",
       "      <td>12193</td>\n",
       "      <td>1.0</td>\n",
       "      <td>...</td>\n",
       "      <td>7195880</td>\n",
       "      <td>42.06</td>\n",
       "      <td>1.0</td>\n",
       "      <td>60.0</td>\n",
       "      <td>4.046452</td>\n",
       "      <td>45.411903</td>\n",
       "      <td>7.247444</td>\n",
       "      <td>5.274037</td>\n",
       "      <td>9.125561</td>\n",
       "      <td>7.464867</td>\n",
       "    </tr>\n",
       "    <tr>\n",
       "      <th>5</th>\n",
       "      <td>Emilia_Romagna</td>\n",
       "      <td>Ferrara</td>\n",
       "      <td>Jolanda di Savoia</td>\n",
       "      <td>232.509995</td>\n",
       "      <td>44.160000</td>\n",
       "      <td>50.049999</td>\n",
       "      <td>38010</td>\n",
       "      <td>108.339996</td>\n",
       "      <td>3003</td>\n",
       "      <td>1.0</td>\n",
       "      <td>...</td>\n",
       "      <td>1682628</td>\n",
       "      <td>79.22</td>\n",
       "      <td>3.0</td>\n",
       "      <td>65.0</td>\n",
       "      <td>33.105049</td>\n",
       "      <td>15.233530</td>\n",
       "      <td>7.782785</td>\n",
       "      <td>3.776468</td>\n",
       "      <td>9.502230</td>\n",
       "      <td>8.016269</td>\n",
       "    </tr>\n",
       "    <tr>\n",
       "      <th>6</th>\n",
       "      <td>Emilia_Romagna</td>\n",
       "      <td>Ferrara</td>\n",
       "      <td>Tresignana</td>\n",
       "      <td>215.470001</td>\n",
       "      <td>45.910000</td>\n",
       "      <td>45.820000</td>\n",
       "      <td>38030</td>\n",
       "      <td>43.060001</td>\n",
       "      <td>7364</td>\n",
       "      <td>1.0</td>\n",
       "      <td>...</td>\n",
       "      <td>3336429</td>\n",
       "      <td>83.32</td>\n",
       "      <td>NaN</td>\n",
       "      <td>NaN</td>\n",
       "      <td>NaN</td>\n",
       "      <td>NaN</td>\n",
       "      <td>NaN</td>\n",
       "      <td>NaN</td>\n",
       "      <td>NaN</td>\n",
       "      <td>NaN</td>\n",
       "    </tr>\n",
       "    <tr>\n",
       "      <th>7</th>\n",
       "      <td>Lazio</td>\n",
       "      <td>Roma</td>\n",
       "      <td>Fiumicino</td>\n",
       "      <td>229.050003</td>\n",
       "      <td>50.070000</td>\n",
       "      <td>135.720001</td>\n",
       "      <td>58120</td>\n",
       "      <td>213.889999</td>\n",
       "      <td>67626</td>\n",
       "      <td>1.0</td>\n",
       "      <td>...</td>\n",
       "      <td>33435410</td>\n",
       "      <td>76.39</td>\n",
       "      <td>2.0</td>\n",
       "      <td>329.0</td>\n",
       "      <td>11.051060</td>\n",
       "      <td>11.285970</td>\n",
       "      <td>7.570812</td>\n",
       "      <td>5.489089</td>\n",
       "      <td>9.470534</td>\n",
       "      <td>7.797937</td>\n",
       "    </tr>\n",
       "    <tr>\n",
       "      <th>8</th>\n",
       "      <td>Veneto</td>\n",
       "      <td>Venezia</td>\n",
       "      <td>Caorle</td>\n",
       "      <td>560.780029</td>\n",
       "      <td>200.220001</td>\n",
       "      <td>198.479996</td>\n",
       "      <td>27005</td>\n",
       "      <td>153.830002</td>\n",
       "      <td>11793</td>\n",
       "      <td>1.0</td>\n",
       "      <td>...</td>\n",
       "      <td>15175582</td>\n",
       "      <td>62.71</td>\n",
       "      <td>3.0</td>\n",
       "      <td>77.0</td>\n",
       "      <td>9.898176</td>\n",
       "      <td>11.296785</td>\n",
       "      <td>7.818569</td>\n",
       "      <td>5.010459</td>\n",
       "      <td>9.514799</td>\n",
       "      <td>8.053126</td>\n",
       "    </tr>\n",
       "    <tr>\n",
       "      <th>9</th>\n",
       "      <td>Liguria</td>\n",
       "      <td>Imperia</td>\n",
       "      <td>Riva Ligure</td>\n",
       "      <td>295.329987</td>\n",
       "      <td>35.529999</td>\n",
       "      <td>92.489998</td>\n",
       "      <td>8050</td>\n",
       "      <td>2.070000</td>\n",
       "      <td>2861</td>\n",
       "      <td>2.0</td>\n",
       "      <td>...</td>\n",
       "      <td>1553789</td>\n",
       "      <td>80.92</td>\n",
       "      <td>3.0</td>\n",
       "      <td>17.0</td>\n",
       "      <td>0.000000</td>\n",
       "      <td>16.863464</td>\n",
       "      <td>7.243186</td>\n",
       "      <td>5.126625</td>\n",
       "      <td>9.397199</td>\n",
       "      <td>7.460482</td>\n",
       "    </tr>\n",
       "  </tbody>\n",
       "</table>\n",
       "<p>10 rows × 39 columns</p>\n",
       "</div>"
      ],
      "text/plain": [
       "           region               province                  name          tc  \\\n",
       "0  Emilia_Romagna                Ferrara             Comacchio  502.250000   \n",
       "1  Emilia_Romagna                Ferrara             Lagosanto  228.050003   \n",
       "2  Emilia_Romagna                Ferrara                  Goro  268.010010   \n",
       "3  Emilia_Romagna                Ferrara                Mesola  199.089996   \n",
       "4          Puglia  Barletta-Andria-Trani  Margherita di Savoia  233.639999   \n",
       "5  Emilia_Romagna                Ferrara     Jolanda di Savoia  232.509995   \n",
       "6  Emilia_Romagna                Ferrara            Tresignana  215.470001   \n",
       "7           Lazio                   Roma             Fiumicino  229.050003   \n",
       "8          Veneto                Venezia                Caorle  560.780029   \n",
       "9         Liguria                Imperia           Riva Ligure  295.329987   \n",
       "\n",
       "         cres        csor   istat        area    pop  alt  ...       msw  \\\n",
       "0  129.270004   66.419998   38006  283.750000  22648  1.0  ...  33956781   \n",
       "1   49.520000   44.139999   38011   34.439999   4952  1.0  ...   2411867   \n",
       "2   50.610001   44.599998   38025   26.620001   3895  1.0  ...   2159322   \n",
       "3   41.110001   40.439999   38014   84.300003   7140  1.0  ...   3651915   \n",
       "4   58.270000   25.950001  110005   35.700001  12193  1.0  ...   7195880   \n",
       "5   44.160000   50.049999   38010  108.339996   3003  1.0  ...   1682628   \n",
       "6   45.910000   45.820000   38030   43.060001   7364  1.0  ...   3336429   \n",
       "7   50.070000  135.720001   58120  213.889999  67626  1.0  ...  33435410   \n",
       "8  200.220001  198.479996   27005  153.830002  11793  1.0  ...  15175582   \n",
       "9   35.529999   92.489998    8050    2.070000   2861  2.0  ...   1553789   \n",
       "\n",
       "     sor  geo  roads  s_wteregio s_landfill       gdp    proads      wage  \\\n",
       "0  60.07  3.0  285.0   33.105049  15.233530  7.269942  4.354818  9.438692   \n",
       "1  75.93  3.0   11.0   33.105049  15.233530  7.109984  6.082588  9.510139   \n",
       "2  78.49  3.0   49.0   33.105049  15.233530  7.267856  4.335555  8.891356   \n",
       "3  78.89  3.0  165.0   33.105049  15.233530  7.085936  3.710479  9.433685   \n",
       "4  42.06  1.0   60.0    4.046452  45.411903  7.247444  5.274037  9.125561   \n",
       "5  79.22  3.0   65.0   33.105049  15.233530  7.782785  3.776468  9.502230   \n",
       "6  83.32  NaN    NaN         NaN        NaN       NaN       NaN       NaN   \n",
       "7  76.39  2.0  329.0   11.051060  11.285970  7.570812  5.489089  9.470534   \n",
       "8  62.71  3.0   77.0    9.898176  11.296785  7.818569  5.010459  9.514799   \n",
       "9  80.92  3.0   17.0    0.000000  16.863464  7.243186  5.126625  9.397199   \n",
       "\n",
       "    finance  \n",
       "0  7.488041  \n",
       "1  7.323284  \n",
       "2  7.485891  \n",
       "3  7.298514  \n",
       "4  7.464867  \n",
       "5  8.016269  \n",
       "6       NaN  \n",
       "7  7.797937  \n",
       "8  8.053126  \n",
       "9  7.460482  \n",
       "\n",
       "[10 rows x 39 columns]"
      ]
     },
     "execution_count": 5,
     "metadata": {},
     "output_type": "execute_result"
    }
   ],
   "source": [
    "data.head(10)"
   ]
  },
  {
   "cell_type": "markdown",
   "id": "a5f44ca7",
   "metadata": {},
   "source": [
    "#### Information about the columns"
   ]
  },
  {
   "cell_type": "code",
   "execution_count": 6,
   "id": "ee8ca800",
   "metadata": {},
   "outputs": [
    {
     "name": "stdout",
     "output_type": "stream",
     "text": [
      "<class 'pandas.core.frame.DataFrame'>\n",
      "RangeIndex: 4341 entries, 0 to 4340\n",
      "Data columns (total 39 columns):\n",
      " #   Column      Non-Null Count  Dtype  \n",
      "---  ------      --------------  -----  \n",
      " 0   region      4341 non-null   object \n",
      " 1   province    4341 non-null   object \n",
      " 2   name        4335 non-null   object \n",
      " 3   tc          4341 non-null   float64\n",
      " 4   cres        4289 non-null   float64\n",
      " 5   csor        4274 non-null   float64\n",
      " 6   istat       4341 non-null   int64  \n",
      " 7   area        4335 non-null   float64\n",
      " 8   pop         4341 non-null   int64  \n",
      " 9   alt         4335 non-null   float64\n",
      " 10  isle        4335 non-null   float64\n",
      " 11  sea         4335 non-null   float64\n",
      " 12  pden        4335 non-null   float64\n",
      " 13  wden        4335 non-null   float64\n",
      " 14  urb         4335 non-null   float64\n",
      " 15  fee         4341 non-null   object \n",
      " 16  d_fee       4341 non-null   int64  \n",
      " 17  sample      4341 non-null   int64  \n",
      " 18  organic     3829 non-null   float64\n",
      " 19  paper       4316 non-null   float64\n",
      " 20  glass       4308 non-null   float64\n",
      " 21  wood        3246 non-null   float64\n",
      " 22  metal       4095 non-null   float64\n",
      " 23  plastic     4302 non-null   float64\n",
      " 24  raee        4027 non-null   float64\n",
      " 25  texile      3328 non-null   float64\n",
      " 26  other       4205 non-null   float64\n",
      " 27  msw_so      4341 non-null   float64\n",
      " 28  msw_un      4341 non-null   int64  \n",
      " 29  msw         4341 non-null   int64  \n",
      " 30  sor         4341 non-null   float64\n",
      " 31  geo         4056 non-null   float64\n",
      " 32  roads       3898 non-null   float64\n",
      " 33  s_wteregio  4056 non-null   float64\n",
      " 34  s_landfill  4056 non-null   float64\n",
      " 35  gdp         3955 non-null   float64\n",
      " 36  proads      3898 non-null   float64\n",
      " 37  wage        4056 non-null   float64\n",
      " 38  finance     3955 non-null   float64\n",
      "dtypes: float64(29), int64(6), object(4)\n",
      "memory usage: 1.3+ MB\n"
     ]
    }
   ],
   "source": [
    "data.info()"
   ]
  },
  {
   "cell_type": "markdown",
   "id": "5b2b88b3",
   "metadata": {},
   "source": [
    "### Most important features relative to target"
   ]
  },
  {
   "cell_type": "code",
   "execution_count": 7,
   "id": "163daaea",
   "metadata": {},
   "outputs": [
    {
     "name": "stdout",
     "output_type": "stream",
     "text": [
      "gdp           1.000000\n",
      "finance       1.000000\n",
      "alt           0.466086\n",
      "tc            0.425476\n",
      "cres          0.400337\n",
      "urb           0.323812\n",
      "s_landfill    0.216314\n",
      "csor          0.203540\n",
      "istat         0.192090\n",
      "area          0.169670\n",
      "glass         0.168658\n",
      "sea           0.125317\n",
      "plastic       0.069677\n",
      "roads         0.057025\n",
      "isle          0.047803\n",
      "msw_un        0.045604\n",
      "msw           0.034696\n",
      "pop           0.028322\n",
      "raee          0.021426\n",
      "msw_so        0.020659\n",
      "texile        0.014644\n",
      "metal        -0.030607\n",
      "organic      -0.060589\n",
      "d_fee        -0.083654\n",
      "paper        -0.159886\n",
      "wden         -0.169451\n",
      "pden         -0.191937\n",
      "s_wteregio   -0.212591\n",
      "other        -0.242471\n",
      "wood         -0.279499\n",
      "sor          -0.300770\n",
      "wage         -0.317302\n",
      "sample       -0.354910\n",
      "geo          -0.382034\n",
      "proads       -0.451471\n",
      "Name: finance, dtype: float64\n"
     ]
    }
   ],
   "source": [
    "corr = data.corr()\n",
    "corr.sort_values([\"finance\"], ascending = False, inplace = True)\n",
    "print(corr.finance)"
   ]
  },
  {
   "cell_type": "markdown",
   "id": "91a3d179",
   "metadata": {},
   "source": [
    "## Data Visualization"
   ]
  },
  {
   "cell_type": "markdown",
   "id": "d74b4549",
   "metadata": {},
   "source": [
    "#### Histograms"
   ]
  },
  {
   "cell_type": "code",
   "execution_count": 8,
   "id": "531ef9ea",
   "metadata": {},
   "outputs": [
    {
     "data": {
      "image/png": "[encoded data removed]",
      "text/plain": [
       "<Figure size 360x360 with 1 Axes>"
      ]
     },
     "metadata": {
      "needs_background": "light"
     },
     "output_type": "display_data"
    }
   ],
   "source": [
    "sns.displot(data['finance']);"
   ]
  },
  {
   "cell_type": "code",
   "execution_count": 9,
   "id": "f6f09c34",
   "metadata": {},
   "outputs": [
    {
     "data": {
      "image/png": "[encoded data removed]",
      "text/plain": [
       "<Figure size 360x360 with 1 Axes>"
      ]
     },
     "metadata": {
      "needs_background": "light"
     },
     "output_type": "display_data"
    }
   ],
   "source": [
    "sns.displot(data['istat']);"
   ]
  },
  {
   "cell_type": "code",
   "execution_count": 10,
   "id": "a958e936",
   "metadata": {},
   "outputs": [
    {
     "data": {
      "image/png": "[encoded data removed]",
      "text/plain": [
       "<Figure size 360x360 with 1 Axes>"
      ]
     },
     "metadata": {
      "needs_background": "light"
     },
     "output_type": "display_data"
    }
   ],
   "source": [
    "sns.displot(data['organic']);"
   ]
  },
  {
   "cell_type": "code",
   "execution_count": 11,
   "id": "6bf12d70",
   "metadata": {},
   "outputs": [
    {
     "data": {
      "image/png": "[encoded data removed]",
      "text/plain": [
       "<Figure size 360x360 with 1 Axes>"
      ]
     },
     "metadata": {
      "needs_background": "light"
     },
     "output_type": "display_data"
    }
   ],
   "source": [
    "sns.displot(data['s_wteregio']);"
   ]
  },
  {
   "cell_type": "markdown",
   "id": "d4b016ba",
   "metadata": {},
   "source": [
    "#### Boxplots"
   ]
  },
  {
   "cell_type": "code",
   "execution_count": 12,
   "id": "efd6be13",
   "metadata": {},
   "outputs": [
    {
     "name": "stderr",
     "output_type": "stream",
     "text": [
      "C:\\Users\\Satvik V\\anaconda3\\lib\\site-packages\\seaborn\\_decorators.py:36: FutureWarning: Pass the following variable as a keyword arg: x. From version 0.12, the only valid positional argument will be `data`, and passing other arguments without an explicit keyword will result in an error or misinterpretation.\n",
      "  warnings.warn(\n"
     ]
    },
    {
     "data": {
      "text/plain": [
       "<AxesSubplot:xlabel='istat'>"
      ]
     },
     "execution_count": 12,
     "metadata": {},
     "output_type": "execute_result"
    },
    {
     "data": {
      "image/png": "[encoded data removed]",
      "text/plain": [
       "<Figure size 432x288 with 1 Axes>"
      ]
     },
     "metadata": {
      "needs_background": "light"
     },
     "output_type": "display_data"
    }
   ],
   "source": [
    "sns.boxplot(data['istat'])"
   ]
  },
  {
   "cell_type": "code",
   "execution_count": 13,
   "id": "707032f9",
   "metadata": {},
   "outputs": [
    {
     "name": "stderr",
     "output_type": "stream",
     "text": [
      "C:\\Users\\Satvik V\\anaconda3\\lib\\site-packages\\seaborn\\_decorators.py:36: FutureWarning: Pass the following variable as a keyword arg: x. From version 0.12, the only valid positional argument will be `data`, and passing other arguments without an explicit keyword will result in an error or misinterpretation.\n",
      "  warnings.warn(\n"
     ]
    },
    {
     "data": {
      "text/plain": [
       "<AxesSubplot:xlabel='s_landfill'>"
      ]
     },
     "execution_count": 13,
     "metadata": {},
     "output_type": "execute_result"
    },
    {
     "data": {
      "image/png": "[encoded data removed]",
      "text/plain": [
       "<Figure size 432x288 with 1 Axes>"
      ]
     },
     "metadata": {
      "needs_background": "light"
     },
     "output_type": "display_data"
    }
   ],
   "source": [
    "sns.boxplot(data['s_landfill'])"
   ]
  },
  {
   "cell_type": "code",
   "execution_count": 14,
   "id": "dc5e4ed3",
   "metadata": {},
   "outputs": [
    {
     "name": "stderr",
     "output_type": "stream",
     "text": [
      "C:\\Users\\Satvik V\\anaconda3\\lib\\site-packages\\seaborn\\_decorators.py:36: FutureWarning: Pass the following variable as a keyword arg: x. From version 0.12, the only valid positional argument will be `data`, and passing other arguments without an explicit keyword will result in an error or misinterpretation.\n",
      "  warnings.warn(\n"
     ]
    },
    {
     "data": {
      "text/plain": [
       "<AxesSubplot:xlabel='wage'>"
      ]
     },
     "execution_count": 14,
     "metadata": {},
     "output_type": "execute_result"
    },
    {
     "data": {
      "image/png": "[encoded data removed]",
      "text/plain": [
       "<Figure size 432x288 with 1 Axes>"
      ]
     },
     "metadata": {
      "needs_background": "light"
     },
     "output_type": "display_data"
    }
   ],
   "source": [
    "sns.boxplot(data['wage'])"
   ]
  },
  {
   "cell_type": "code",
   "execution_count": 15,
   "id": "f88ead4a",
   "metadata": {},
   "outputs": [
    {
     "name": "stderr",
     "output_type": "stream",
     "text": [
      "C:\\Users\\Satvik V\\anaconda3\\lib\\site-packages\\seaborn\\_decorators.py:36: FutureWarning: Pass the following variable as a keyword arg: x. From version 0.12, the only valid positional argument will be `data`, and passing other arguments without an explicit keyword will result in an error or misinterpretation.\n",
      "  warnings.warn(\n"
     ]
    },
    {
     "data": {
      "text/plain": [
       "<AxesSubplot:xlabel='organic'>"
      ]
     },
     "execution_count": 15,
     "metadata": {},
     "output_type": "execute_result"
    },
    {
     "data": {
      "image/png": "[encoded data removed]",
      "text/plain": [
       "<Figure size 432x288 with 1 Axes>"
      ]
     },
     "metadata": {
      "needs_background": "light"
     },
     "output_type": "display_data"
    }
   ],
   "source": [
    "sns.boxplot(data['organic'])"
   ]
  },
  {
   "cell_type": "markdown",
   "id": "c1ea71a6",
   "metadata": {},
   "source": [
    "### Correlation matrix (heatmap style)"
   ]
  },
  {
   "cell_type": "code",
   "execution_count": 16,
   "id": "8b9d9f7f",
   "metadata": {},
   "outputs": [
    {
     "data": {
      "image/png": "[encoded data removed]",
      "text/plain": [
       "<Figure size 864x648 with 2 Axes>"
      ]
     },
     "metadata": {
      "needs_background": "light"
     },
     "output_type": "display_data"
    }
   ],
   "source": [
    "corrmat = data.corr()\n",
    "f, ax = plt.subplots(figsize=(12, 9))\n",
    "sns.heatmap(corrmat, vmax=.8, square=True);"
   ]
  },
  {
   "cell_type": "markdown",
   "id": "30598756",
   "metadata": {},
   "source": [
    "#### Barplots"
   ]
  },
  {
   "cell_type": "code",
   "execution_count": 17,
   "id": "65148f6b",
   "metadata": {},
   "outputs": [
    {
     "data": {
      "text/plain": [
       "Text(0.5, 1.0, 'Region Distribution')"
      ]
     },
     "execution_count": 17,
     "metadata": {},
     "output_type": "execute_result"
    },
    {
     "data": {
      "image/png": "[encoded data removed]",
      "text/plain": [
       "<Figure size 720x432 with 1 Axes>"
      ]
     },
     "metadata": {
      "needs_background": "light"
     },
     "output_type": "display_data"
    }
   ],
   "source": [
    "region_count = data['region'].value_counts()\n",
    "plt.figure(figsize = (10,6))\n",
    "axes = sns.barplot(x = region_count, y = region_count.index)\n",
    "axes.set_title(\"Region Distribution\", fontsize = 15)"
   ]
  },
  {
   "cell_type": "code",
   "execution_count": 18,
   "id": "8fc9884b",
   "metadata": {},
   "outputs": [
    {
     "data": {
      "text/plain": [
       "Text(0.5, 1.0, 'Province Distribution')"
      ]
     },
     "execution_count": 18,
     "metadata": {},
     "output_type": "execute_result"
    },
    {
     "data": {
      "image/png": "[encoded data removed]",
      "text/plain": [
       "<Figure size 720x1440 with 1 Axes>"
      ]
     },
     "metadata": {
      "needs_background": "light"
     },
     "output_type": "display_data"
    }
   ],
   "source": [
    "province_count = data['province'].value_counts()\n",
    "plt.figure(figsize = (10,20))\n",
    "axes = sns.barplot(x = province_count, y = province_count.index)\n",
    "axes.set_title(\"Province Distribution\", fontsize = 15)"
   ]
  },
  {
   "cell_type": "markdown",
   "id": "b655caf8",
   "metadata": {},
   "source": [
    "#### Scatterplot/Regplot"
   ]
  },
  {
   "cell_type": "code",
   "execution_count": 19,
   "id": "39296c4e",
   "metadata": {},
   "outputs": [
    {
     "data": {
      "text/plain": [
       "<AxesSubplot:xlabel='tc', ylabel='finance'>"
      ]
     },
     "execution_count": 19,
     "metadata": {},
     "output_type": "execute_result"
    },
    {
     "data": {
      "image/png": "[encoded data removed]",
      "text/plain": [
       "<Figure size 720x360 with 1 Axes>"
      ]
     },
     "metadata": {
      "needs_background": "light"
     },
     "output_type": "display_data"
    }
   ],
   "source": [
    "plt.figure(figsize=(10,5),)\n",
    "sns.regplot(x=data['tc'], y=data['finance'])"
   ]
  },
  {
   "cell_type": "markdown",
   "id": "e09aa39a",
   "metadata": {},
   "source": [
    "## Data Preprocessing"
   ]
  },
  {
   "cell_type": "markdown",
   "id": "972064a1",
   "metadata": {},
   "source": [
    "#### Handeling outliers"
   ]
  },
  {
   "cell_type": "code",
   "execution_count": 20,
   "id": "96ffaa9f",
   "metadata": {},
   "outputs": [],
   "source": [
    "upper_limit = data['area'].quantile(0.99)\n",
    "lower_limit = data['area'].quantile(0.01)\n",
    "\n",
    "data = data[(data.area < upper_limit) & (data.area > lower_limit)]"
   ]
  },
  {
   "cell_type": "markdown",
   "id": "407be135",
   "metadata": {},
   "source": [
    "#### Splitting the data into numerical and categorical features\n"
   ]
  },
  {
   "cell_type": "code",
   "execution_count": 21,
   "id": "81640da0",
   "metadata": {},
   "outputs": [],
   "source": [
    "numerical = data.select_dtypes(['int64','float64'])\n",
    "categorical = data.select_dtypes(['object'])"
   ]
  },
  {
   "cell_type": "code",
   "execution_count": 22,
   "id": "604557b7",
   "metadata": {},
   "outputs": [
    {
     "data": {
      "text/html": [
       "<div>\n",
       "<style scoped>\n",
       "    .dataframe tbody tr th:only-of-type {\n",
       "        vertical-align: middle;\n",
       "    }\n",
       "\n",
       "    .dataframe tbody tr th {\n",
       "        vertical-align: top;\n",
       "    }\n",
       "\n",
       "    .dataframe thead th {\n",
       "        text-align: right;\n",
       "    }\n",
       "</style>\n",
       "<table border=\"1\" class=\"dataframe\">\n",
       "  <thead>\n",
       "    <tr style=\"text-align: right;\">\n",
       "      <th></th>\n",
       "      <th>tc</th>\n",
       "      <th>cres</th>\n",
       "      <th>csor</th>\n",
       "      <th>istat</th>\n",
       "      <th>area</th>\n",
       "      <th>pop</th>\n",
       "      <th>alt</th>\n",
       "      <th>isle</th>\n",
       "      <th>sea</th>\n",
       "      <th>pden</th>\n",
       "      <th>...</th>\n",
       "      <th>msw</th>\n",
       "      <th>sor</th>\n",
       "      <th>geo</th>\n",
       "      <th>roads</th>\n",
       "      <th>s_wteregio</th>\n",
       "      <th>s_landfill</th>\n",
       "      <th>gdp</th>\n",
       "      <th>proads</th>\n",
       "      <th>wage</th>\n",
       "      <th>finance</th>\n",
       "    </tr>\n",
       "  </thead>\n",
       "  <tbody>\n",
       "    <tr>\n",
       "      <th>1</th>\n",
       "      <td>228.050003</td>\n",
       "      <td>49.520000</td>\n",
       "      <td>44.139999</td>\n",
       "      <td>38011</td>\n",
       "      <td>34.439999</td>\n",
       "      <td>4952</td>\n",
       "      <td>1.0</td>\n",
       "      <td>0.0</td>\n",
       "      <td>1.0</td>\n",
       "      <td>143.786301</td>\n",
       "      <td>...</td>\n",
       "      <td>2411867</td>\n",
       "      <td>75.93</td>\n",
       "      <td>3.0</td>\n",
       "      <td>11.0</td>\n",
       "      <td>33.105049</td>\n",
       "      <td>15.233530</td>\n",
       "      <td>7.109984</td>\n",
       "      <td>6.082588</td>\n",
       "      <td>9.510139</td>\n",
       "      <td>7.323284</td>\n",
       "    </tr>\n",
       "    <tr>\n",
       "      <th>2</th>\n",
       "      <td>268.010010</td>\n",
       "      <td>50.610001</td>\n",
       "      <td>44.599998</td>\n",
       "      <td>38025</td>\n",
       "      <td>26.620001</td>\n",
       "      <td>3895</td>\n",
       "      <td>1.0</td>\n",
       "      <td>0.0</td>\n",
       "      <td>1.0</td>\n",
       "      <td>146.318558</td>\n",
       "      <td>...</td>\n",
       "      <td>2159322</td>\n",
       "      <td>78.49</td>\n",
       "      <td>3.0</td>\n",
       "      <td>49.0</td>\n",
       "      <td>33.105049</td>\n",
       "      <td>15.233530</td>\n",
       "      <td>7.267856</td>\n",
       "      <td>4.335555</td>\n",
       "      <td>8.891356</td>\n",
       "      <td>7.485891</td>\n",
       "    </tr>\n",
       "    <tr>\n",
       "      <th>3</th>\n",
       "      <td>199.089996</td>\n",
       "      <td>41.110001</td>\n",
       "      <td>40.439999</td>\n",
       "      <td>38014</td>\n",
       "      <td>84.300003</td>\n",
       "      <td>7140</td>\n",
       "      <td>1.0</td>\n",
       "      <td>0.0</td>\n",
       "      <td>1.0</td>\n",
       "      <td>84.697502</td>\n",
       "      <td>...</td>\n",
       "      <td>3651915</td>\n",
       "      <td>78.89</td>\n",
       "      <td>3.0</td>\n",
       "      <td>165.0</td>\n",
       "      <td>33.105049</td>\n",
       "      <td>15.233530</td>\n",
       "      <td>7.085936</td>\n",
       "      <td>3.710479</td>\n",
       "      <td>9.433685</td>\n",
       "      <td>7.298514</td>\n",
       "    </tr>\n",
       "    <tr>\n",
       "      <th>4</th>\n",
       "      <td>233.639999</td>\n",
       "      <td>58.270000</td>\n",
       "      <td>25.950001</td>\n",
       "      <td>110005</td>\n",
       "      <td>35.700001</td>\n",
       "      <td>12193</td>\n",
       "      <td>1.0</td>\n",
       "      <td>0.0</td>\n",
       "      <td>1.0</td>\n",
       "      <td>341.540619</td>\n",
       "      <td>...</td>\n",
       "      <td>7195880</td>\n",
       "      <td>42.06</td>\n",
       "      <td>1.0</td>\n",
       "      <td>60.0</td>\n",
       "      <td>4.046452</td>\n",
       "      <td>45.411903</td>\n",
       "      <td>7.247444</td>\n",
       "      <td>5.274037</td>\n",
       "      <td>9.125561</td>\n",
       "      <td>7.464867</td>\n",
       "    </tr>\n",
       "    <tr>\n",
       "      <th>5</th>\n",
       "      <td>232.509995</td>\n",
       "      <td>44.160000</td>\n",
       "      <td>50.049999</td>\n",
       "      <td>38010</td>\n",
       "      <td>108.339996</td>\n",
       "      <td>3003</td>\n",
       "      <td>1.0</td>\n",
       "      <td>0.0</td>\n",
       "      <td>0.0</td>\n",
       "      <td>27.718296</td>\n",
       "      <td>...</td>\n",
       "      <td>1682628</td>\n",
       "      <td>79.22</td>\n",
       "      <td>3.0</td>\n",
       "      <td>65.0</td>\n",
       "      <td>33.105049</td>\n",
       "      <td>15.233530</td>\n",
       "      <td>7.782785</td>\n",
       "      <td>3.776468</td>\n",
       "      <td>9.502230</td>\n",
       "      <td>8.016269</td>\n",
       "    </tr>\n",
       "    <tr>\n",
       "      <th>...</th>\n",
       "      <td>...</td>\n",
       "      <td>...</td>\n",
       "      <td>...</td>\n",
       "      <td>...</td>\n",
       "      <td>...</td>\n",
       "      <td>...</td>\n",
       "      <td>...</td>\n",
       "      <td>...</td>\n",
       "      <td>...</td>\n",
       "      <td>...</td>\n",
       "      <td>...</td>\n",
       "      <td>...</td>\n",
       "      <td>...</td>\n",
       "      <td>...</td>\n",
       "      <td>...</td>\n",
       "      <td>...</td>\n",
       "      <td>...</td>\n",
       "      <td>...</td>\n",
       "      <td>...</td>\n",
       "      <td>...</td>\n",
       "      <td>...</td>\n",
       "    </tr>\n",
       "    <tr>\n",
       "      <th>4330</th>\n",
       "      <td>977.419983</td>\n",
       "      <td>469.290009</td>\n",
       "      <td>57.480000</td>\n",
       "      <td>16103</td>\n",
       "      <td>16.139999</td>\n",
       "      <td>202</td>\n",
       "      <td>1508.0</td>\n",
       "      <td>0.0</td>\n",
       "      <td>0.0</td>\n",
       "      <td>12.515490</td>\n",
       "      <td>...</td>\n",
       "      <td>188003</td>\n",
       "      <td>38.76</td>\n",
       "      <td>3.0</td>\n",
       "      <td>20.0</td>\n",
       "      <td>38.501492</td>\n",
       "      <td>4.551430</td>\n",
       "      <td>10.538720</td>\n",
       "      <td>2.224623</td>\n",
       "      <td>9.505127</td>\n",
       "      <td>10.854882</td>\n",
       "    </tr>\n",
       "    <tr>\n",
       "      <th>4331</th>\n",
       "      <td>132.809998</td>\n",
       "      <td>32.380001</td>\n",
       "      <td>71.739998</td>\n",
       "      <td>21027</td>\n",
       "      <td>209.649994</td>\n",
       "      <td>2423</td>\n",
       "      <td>1520.0</td>\n",
       "      <td>0.0</td>\n",
       "      <td>0.0</td>\n",
       "      <td>11.557358</td>\n",
       "      <td>...</td>\n",
       "      <td>1466016</td>\n",
       "      <td>70.63</td>\n",
       "      <td>3.0</td>\n",
       "      <td>52.0</td>\n",
       "      <td>18.539640</td>\n",
       "      <td>11.318043</td>\n",
       "      <td>8.413345</td>\n",
       "      <td>3.819020</td>\n",
       "      <td>9.599592</td>\n",
       "      <td>8.665746</td>\n",
       "    </tr>\n",
       "    <tr>\n",
       "      <th>4332</th>\n",
       "      <td>156.429993</td>\n",
       "      <td>62.910000</td>\n",
       "      <td>63.680000</td>\n",
       "      <td>21089</td>\n",
       "      <td>56.240002</td>\n",
       "      <td>2660</td>\n",
       "      <td>1563.0</td>\n",
       "      <td>0.0</td>\n",
       "      <td>0.0</td>\n",
       "      <td>47.297295</td>\n",
       "      <td>...</td>\n",
       "      <td>3405016</td>\n",
       "      <td>64.84</td>\n",
       "      <td>3.0</td>\n",
       "      <td>40.0</td>\n",
       "      <td>18.539640</td>\n",
       "      <td>11.318043</td>\n",
       "      <td>8.609627</td>\n",
       "      <td>4.187419</td>\n",
       "      <td>10.174608</td>\n",
       "      <td>8.867916</td>\n",
       "    </tr>\n",
       "    <tr>\n",
       "      <th>4333</th>\n",
       "      <td>370.880005</td>\n",
       "      <td>89.139999</td>\n",
       "      <td>260.179993</td>\n",
       "      <td>21026</td>\n",
       "      <td>38.840000</td>\n",
       "      <td>1320</td>\n",
       "      <td>1568.0</td>\n",
       "      <td>0.0</td>\n",
       "      <td>0.0</td>\n",
       "      <td>33.985580</td>\n",
       "      <td>...</td>\n",
       "      <td>2527097</td>\n",
       "      <td>75.21</td>\n",
       "      <td>3.0</td>\n",
       "      <td>66.0</td>\n",
       "      <td>18.539640</td>\n",
       "      <td>11.318043</td>\n",
       "      <td>8.750687</td>\n",
       "      <td>3.039358</td>\n",
       "      <td>10.249179</td>\n",
       "      <td>9.013207</td>\n",
       "    </tr>\n",
       "    <tr>\n",
       "      <th>4334</th>\n",
       "      <td>319.989990</td>\n",
       "      <td>219.429993</td>\n",
       "      <td>67.480003</td>\n",
       "      <td>14037</td>\n",
       "      <td>227.289993</td>\n",
       "      <td>5976</td>\n",
       "      <td>1816.0</td>\n",
       "      <td>0.0</td>\n",
       "      <td>0.0</td>\n",
       "      <td>26.292402</td>\n",
       "      <td>...</td>\n",
       "      <td>7683920</td>\n",
       "      <td>44.89</td>\n",
       "      <td>3.0</td>\n",
       "      <td>76.0</td>\n",
       "      <td>38.501492</td>\n",
       "      <td>4.551430</td>\n",
       "      <td>8.463772</td>\n",
       "      <td>4.451475</td>\n",
       "      <td>9.763460</td>\n",
       "      <td>8.717685</td>\n",
       "    </tr>\n",
       "  </tbody>\n",
       "</table>\n",
       "<p>4247 rows × 35 columns</p>\n",
       "</div>"
      ],
      "text/plain": [
       "              tc        cres        csor   istat        area    pop     alt  \\\n",
       "1     228.050003   49.520000   44.139999   38011   34.439999   4952     1.0   \n",
       "2     268.010010   50.610001   44.599998   38025   26.620001   3895     1.0   \n",
       "3     199.089996   41.110001   40.439999   38014   84.300003   7140     1.0   \n",
       "4     233.639999   58.270000   25.950001  110005   35.700001  12193     1.0   \n",
       "5     232.509995   44.160000   50.049999   38010  108.339996   3003     1.0   \n",
       "...          ...         ...         ...     ...         ...    ...     ...   \n",
       "4330  977.419983  469.290009   57.480000   16103   16.139999    202  1508.0   \n",
       "4331  132.809998   32.380001   71.739998   21027  209.649994   2423  1520.0   \n",
       "4332  156.429993   62.910000   63.680000   21089   56.240002   2660  1563.0   \n",
       "4333  370.880005   89.139999  260.179993   21026   38.840000   1320  1568.0   \n",
       "4334  319.989990  219.429993   67.480003   14037  227.289993   5976  1816.0   \n",
       "\n",
       "      isle  sea        pden  ...      msw    sor  geo  roads  s_wteregio  \\\n",
       "1      0.0  1.0  143.786301  ...  2411867  75.93  3.0   11.0   33.105049   \n",
       "2      0.0  1.0  146.318558  ...  2159322  78.49  3.0   49.0   33.105049   \n",
       "3      0.0  1.0   84.697502  ...  3651915  78.89  3.0  165.0   33.105049   \n",
       "4      0.0  1.0  341.540619  ...  7195880  42.06  1.0   60.0    4.046452   \n",
       "5      0.0  0.0   27.718296  ...  1682628  79.22  3.0   65.0   33.105049   \n",
       "...    ...  ...         ...  ...      ...    ...  ...    ...         ...   \n",
       "4330   0.0  0.0   12.515490  ...   188003  38.76  3.0   20.0   38.501492   \n",
       "4331   0.0  0.0   11.557358  ...  1466016  70.63  3.0   52.0   18.539640   \n",
       "4332   0.0  0.0   47.297295  ...  3405016  64.84  3.0   40.0   18.539640   \n",
       "4333   0.0  0.0   33.985580  ...  2527097  75.21  3.0   66.0   18.539640   \n",
       "4334   0.0  0.0   26.292402  ...  7683920  44.89  3.0   76.0   38.501492   \n",
       "\n",
       "      s_landfill        gdp    proads       wage    finance  \n",
       "1      15.233530   7.109984  6.082588   9.510139   7.323284  \n",
       "2      15.233530   7.267856  4.335555   8.891356   7.485891  \n",
       "3      15.233530   7.085936  3.710479   9.433685   7.298514  \n",
       "4      45.411903   7.247444  5.274037   9.125561   7.464867  \n",
       "5      15.233530   7.782785  3.776468   9.502230   8.016269  \n",
       "...          ...        ...       ...        ...        ...  \n",
       "4330    4.551430  10.538720  2.224623   9.505127  10.854882  \n",
       "4331   11.318043   8.413345  3.819020   9.599592   8.665746  \n",
       "4332   11.318043   8.609627  4.187419  10.174608   8.867916  \n",
       "4333   11.318043   8.750687  3.039358  10.249179   9.013207  \n",
       "4334    4.551430   8.463772  4.451475   9.763460   8.717685  \n",
       "\n",
       "[4247 rows x 35 columns]"
      ]
     },
     "execution_count": 22,
     "metadata": {},
     "output_type": "execute_result"
    }
   ],
   "source": [
    "numerical"
   ]
  },
  {
   "cell_type": "markdown",
   "id": "cc64b68a",
   "metadata": {},
   "source": [
    "#### checking for na values"
   ]
  },
  {
   "cell_type": "code",
   "execution_count": 23,
   "id": "d6b09bd6",
   "metadata": {},
   "outputs": [
    {
     "data": {
      "text/plain": [
       "tc               0\n",
       "cres            52\n",
       "csor            67\n",
       "istat            0\n",
       "area             0\n",
       "pop              0\n",
       "alt              0\n",
       "isle             0\n",
       "sea              0\n",
       "pden             0\n",
       "wden             0\n",
       "urb              0\n",
       "d_fee            0\n",
       "sample           0\n",
       "organic        499\n",
       "paper           23\n",
       "glass           33\n",
       "wood          1081\n",
       "metal          242\n",
       "plastic         38\n",
       "raee           310\n",
       "texile        1001\n",
       "other          134\n",
       "msw_so           0\n",
       "msw_un           0\n",
       "msw              0\n",
       "sor              0\n",
       "geo            277\n",
       "roads          428\n",
       "s_wteregio     277\n",
       "s_landfill     277\n",
       "gdp            373\n",
       "proads         428\n",
       "wage           277\n",
       "finance        373\n",
       "dtype: int64"
      ]
     },
     "execution_count": 23,
     "metadata": {},
     "output_type": "execute_result"
    }
   ],
   "source": [
    "numerical.isna().sum()"
   ]
  },
  {
   "cell_type": "code",
   "execution_count": 24,
   "id": "213261a9",
   "metadata": {},
   "outputs": [
    {
     "data": {
      "text/html": [
       "<div>\n",
       "<style scoped>\n",
       "    .dataframe tbody tr th:only-of-type {\n",
       "        vertical-align: middle;\n",
       "    }\n",
       "\n",
       "    .dataframe tbody tr th {\n",
       "        vertical-align: top;\n",
       "    }\n",
       "\n",
       "    .dataframe thead th {\n",
       "        text-align: right;\n",
       "    }\n",
       "</style>\n",
       "<table border=\"1\" class=\"dataframe\">\n",
       "  <thead>\n",
       "    <tr style=\"text-align: right;\">\n",
       "      <th></th>\n",
       "      <th>region</th>\n",
       "      <th>province</th>\n",
       "      <th>name</th>\n",
       "      <th>fee</th>\n",
       "    </tr>\n",
       "  </thead>\n",
       "  <tbody>\n",
       "    <tr>\n",
       "      <th>1</th>\n",
       "      <td>Emilia_Romagna</td>\n",
       "      <td>Ferrara</td>\n",
       "      <td>Lagosanto</td>\n",
       "      <td>PAYT</td>\n",
       "    </tr>\n",
       "    <tr>\n",
       "      <th>2</th>\n",
       "      <td>Emilia_Romagna</td>\n",
       "      <td>Ferrara</td>\n",
       "      <td>Goro</td>\n",
       "      <td>PAYT</td>\n",
       "    </tr>\n",
       "    <tr>\n",
       "      <th>3</th>\n",
       "      <td>Emilia_Romagna</td>\n",
       "      <td>Ferrara</td>\n",
       "      <td>Mesola</td>\n",
       "      <td>PAYT</td>\n",
       "    </tr>\n",
       "    <tr>\n",
       "      <th>4</th>\n",
       "      <td>Puglia</td>\n",
       "      <td>Barletta-Andria-Trani</td>\n",
       "      <td>Margherita di Savoia</td>\n",
       "      <td>STANDARD</td>\n",
       "    </tr>\n",
       "    <tr>\n",
       "      <th>5</th>\n",
       "      <td>Emilia_Romagna</td>\n",
       "      <td>Ferrara</td>\n",
       "      <td>Jolanda di Savoia</td>\n",
       "      <td>PAYT</td>\n",
       "    </tr>\n",
       "    <tr>\n",
       "      <th>...</th>\n",
       "      <td>...</td>\n",
       "      <td>...</td>\n",
       "      <td>...</td>\n",
       "      <td>...</td>\n",
       "    </tr>\n",
       "    <tr>\n",
       "      <th>4330</th>\n",
       "      <td>Lombardia</td>\n",
       "      <td>Bergamo</td>\n",
       "      <td>Foppolo</td>\n",
       "      <td>STANDARD</td>\n",
       "    </tr>\n",
       "    <tr>\n",
       "      <th>4331</th>\n",
       "      <td>Trentino_Alto_Adige</td>\n",
       "      <td>Bolzano</td>\n",
       "      <td>Curon Venosta/Graun im Vinschgau</td>\n",
       "      <td>PAYT</td>\n",
       "    </tr>\n",
       "    <tr>\n",
       "      <th>4332</th>\n",
       "      <td>Trentino_Alto_Adige</td>\n",
       "      <td>Bolzano</td>\n",
       "      <td>Selva di Val Gardena/Wolkenstein in Gröden</td>\n",
       "      <td>PAYT</td>\n",
       "    </tr>\n",
       "    <tr>\n",
       "      <th>4333</th>\n",
       "      <td>Trentino_Alto_Adige</td>\n",
       "      <td>Bolzano</td>\n",
       "      <td>Corvara in Badia/Corvara</td>\n",
       "      <td>PAYT</td>\n",
       "    </tr>\n",
       "    <tr>\n",
       "      <th>4334</th>\n",
       "      <td>Lombardia</td>\n",
       "      <td>Sondrio</td>\n",
       "      <td>Livigno</td>\n",
       "      <td>PAYT</td>\n",
       "    </tr>\n",
       "  </tbody>\n",
       "</table>\n",
       "<p>4247 rows × 4 columns</p>\n",
       "</div>"
      ],
      "text/plain": [
       "                   region               province  \\\n",
       "1          Emilia_Romagna                Ferrara   \n",
       "2          Emilia_Romagna                Ferrara   \n",
       "3          Emilia_Romagna                Ferrara   \n",
       "4                  Puglia  Barletta-Andria-Trani   \n",
       "5          Emilia_Romagna                Ferrara   \n",
       "...                   ...                    ...   \n",
       "4330            Lombardia                Bergamo   \n",
       "4331  Trentino_Alto_Adige                Bolzano   \n",
       "4332  Trentino_Alto_Adige                Bolzano   \n",
       "4333  Trentino_Alto_Adige                Bolzano   \n",
       "4334            Lombardia                Sondrio   \n",
       "\n",
       "                                            name       fee  \n",
       "1                                      Lagosanto      PAYT  \n",
       "2                                           Goro      PAYT  \n",
       "3                                         Mesola      PAYT  \n",
       "4                           Margherita di Savoia  STANDARD  \n",
       "5                              Jolanda di Savoia      PAYT  \n",
       "...                                          ...       ...  \n",
       "4330                                     Foppolo  STANDARD  \n",
       "4331            Curon Venosta/Graun im Vinschgau      PAYT  \n",
       "4332  Selva di Val Gardena/Wolkenstein in Gröden      PAYT  \n",
       "4333                    Corvara in Badia/Corvara      PAYT  \n",
       "4334                                     Livigno      PAYT  \n",
       "\n",
       "[4247 rows x 4 columns]"
      ]
     },
     "execution_count": 24,
     "metadata": {},
     "output_type": "execute_result"
    }
   ],
   "source": [
    "categorical"
   ]
  },
  {
   "cell_type": "markdown",
   "id": "09ece531",
   "metadata": {},
   "source": [
    "#### checking for na values"
   ]
  },
  {
   "cell_type": "code",
   "execution_count": 25,
   "id": "3df17074",
   "metadata": {},
   "outputs": [
    {
     "data": {
      "text/plain": [
       "region      0\n",
       "province    0\n",
       "name        0\n",
       "fee         0\n",
       "dtype: int64"
      ]
     },
     "execution_count": 25,
     "metadata": {},
     "output_type": "execute_result"
    }
   ],
   "source": [
    "categorical.isna().sum()"
   ]
  },
  {
   "cell_type": "markdown",
   "id": "58b107a3",
   "metadata": {},
   "source": [
    "#### Dropping the column name \n"
   ]
  },
  {
   "cell_type": "code",
   "execution_count": 26,
   "id": "d9baafd2",
   "metadata": {},
   "outputs": [],
   "source": [
    "categorical = categorical.drop(['name'], axis=1)"
   ]
  },
  {
   "cell_type": "markdown",
   "id": "12c76a38",
   "metadata": {},
   "source": [
    "#### Filling columns with blank values with 0 "
   ]
  },
  {
   "cell_type": "code",
   "execution_count": 27,
   "id": "bc04e654",
   "metadata": {},
   "outputs": [],
   "source": [
    "missing_value_0 = ['organic', 'paper', 'glass', 'wood', 'metal', 'plastic', 'raee', 'texile', 'other']\n",
    "\n",
    "for i in missing_value_0:\n",
    "    numerical[i] = numerical[i].fillna(0)"
   ]
  },
  {
   "cell_type": "code",
   "execution_count": 28,
   "id": "5a0655b0",
   "metadata": {
    "scrolled": false
   },
   "outputs": [
    {
     "data": {
      "text/plain": [
       "tc              0\n",
       "cres           52\n",
       "csor           67\n",
       "istat           0\n",
       "area            0\n",
       "pop             0\n",
       "alt             0\n",
       "isle            0\n",
       "sea             0\n",
       "pden            0\n",
       "wden            0\n",
       "urb             0\n",
       "d_fee           0\n",
       "sample          0\n",
       "organic         0\n",
       "paper           0\n",
       "glass           0\n",
       "wood            0\n",
       "metal           0\n",
       "plastic         0\n",
       "raee            0\n",
       "texile          0\n",
       "other           0\n",
       "msw_so          0\n",
       "msw_un          0\n",
       "msw             0\n",
       "sor             0\n",
       "geo           277\n",
       "roads         428\n",
       "s_wteregio    277\n",
       "s_landfill    277\n",
       "gdp           373\n",
       "proads        428\n",
       "wage          277\n",
       "finance       373\n",
       "dtype: int64"
      ]
     },
     "execution_count": 28,
     "metadata": {},
     "output_type": "execute_result"
    }
   ],
   "source": [
    "numerical.isna().sum()"
   ]
  },
  {
   "cell_type": "markdown",
   "id": "fbc3a2a5",
   "metadata": {},
   "source": [
    "#### filling numerical na values using median"
   ]
  },
  {
   "cell_type": "code",
   "execution_count": 29,
   "id": "22d34cc2",
   "metadata": {},
   "outputs": [],
   "source": [
    "numerical = numerical.fillna(numerical.median())"
   ]
  },
  {
   "cell_type": "markdown",
   "id": "b6688904",
   "metadata": {},
   "source": [
    "#### converting (object) dtypes features into (int32) dtypes"
   ]
  },
  {
   "cell_type": "code",
   "execution_count": 30,
   "id": "b1c36eb3",
   "metadata": {},
   "outputs": [],
   "source": [
    "l=LabelEncoder()\n",
    "categorical = categorical.apply(l.fit_transform)"
   ]
  },
  {
   "cell_type": "code",
   "execution_count": 31,
   "id": "f96187fa",
   "metadata": {},
   "outputs": [
    {
     "data": {
      "text/html": [
       "<div>\n",
       "<style scoped>\n",
       "    .dataframe tbody tr th:only-of-type {\n",
       "        vertical-align: middle;\n",
       "    }\n",
       "\n",
       "    .dataframe tbody tr th {\n",
       "        vertical-align: top;\n",
       "    }\n",
       "\n",
       "    .dataframe thead th {\n",
       "        text-align: right;\n",
       "    }\n",
       "</style>\n",
       "<table border=\"1\" class=\"dataframe\">\n",
       "  <thead>\n",
       "    <tr style=\"text-align: right;\">\n",
       "      <th></th>\n",
       "      <th>region</th>\n",
       "      <th>province</th>\n",
       "      <th>fee</th>\n",
       "    </tr>\n",
       "  </thead>\n",
       "  <tbody>\n",
       "    <tr>\n",
       "      <th>1</th>\n",
       "      <td>4</td>\n",
       "      <td>30</td>\n",
       "      <td>0</td>\n",
       "    </tr>\n",
       "    <tr>\n",
       "      <th>2</th>\n",
       "      <td>4</td>\n",
       "      <td>30</td>\n",
       "      <td>0</td>\n",
       "    </tr>\n",
       "    <tr>\n",
       "      <th>3</th>\n",
       "      <td>4</td>\n",
       "      <td>30</td>\n",
       "      <td>0</td>\n",
       "    </tr>\n",
       "    <tr>\n",
       "      <th>4</th>\n",
       "      <td>11</td>\n",
       "      <td>8</td>\n",
       "      <td>1</td>\n",
       "    </tr>\n",
       "    <tr>\n",
       "      <th>5</th>\n",
       "      <td>4</td>\n",
       "      <td>30</td>\n",
       "      <td>0</td>\n",
       "    </tr>\n",
       "    <tr>\n",
       "      <th>...</th>\n",
       "      <td>...</td>\n",
       "      <td>...</td>\n",
       "      <td>...</td>\n",
       "    </tr>\n",
       "    <tr>\n",
       "      <th>4330</th>\n",
       "      <td>8</td>\n",
       "      <td>11</td>\n",
       "      <td>1</td>\n",
       "    </tr>\n",
       "    <tr>\n",
       "      <th>4331</th>\n",
       "      <td>15</td>\n",
       "      <td>14</td>\n",
       "      <td>0</td>\n",
       "    </tr>\n",
       "    <tr>\n",
       "      <th>4332</th>\n",
       "      <td>15</td>\n",
       "      <td>14</td>\n",
       "      <td>0</td>\n",
       "    </tr>\n",
       "    <tr>\n",
       "      <th>4333</th>\n",
       "      <td>15</td>\n",
       "      <td>14</td>\n",
       "      <td>0</td>\n",
       "    </tr>\n",
       "    <tr>\n",
       "      <th>4334</th>\n",
       "      <td>8</td>\n",
       "      <td>84</td>\n",
       "      <td>0</td>\n",
       "    </tr>\n",
       "  </tbody>\n",
       "</table>\n",
       "<p>4247 rows × 3 columns</p>\n",
       "</div>"
      ],
      "text/plain": [
       "      region  province  fee\n",
       "1          4        30    0\n",
       "2          4        30    0\n",
       "3          4        30    0\n",
       "4         11         8    1\n",
       "5          4        30    0\n",
       "...      ...       ...  ...\n",
       "4330       8        11    1\n",
       "4331      15        14    0\n",
       "4332      15        14    0\n",
       "4333      15        14    0\n",
       "4334       8        84    0\n",
       "\n",
       "[4247 rows x 3 columns]"
      ]
     },
     "execution_count": 31,
     "metadata": {},
     "output_type": "execute_result"
    }
   ],
   "source": [
    "categorical"
   ]
  },
  {
   "cell_type": "markdown",
   "id": "6f4ef016",
   "metadata": {},
   "source": [
    "#### Merging the numerical and categorical features"
   ]
  },
  {
   "cell_type": "code",
   "execution_count": 32,
   "id": "1f79c519",
   "metadata": {},
   "outputs": [],
   "source": [
    "data = pd.concat([numerical,categorical], axis=1)"
   ]
  },
  {
   "cell_type": "code",
   "execution_count": 33,
   "id": "93d2b8d6",
   "metadata": {},
   "outputs": [
    {
     "data": {
      "text/html": [
       "<div>\n",
       "<style scoped>\n",
       "    .dataframe tbody tr th:only-of-type {\n",
       "        vertical-align: middle;\n",
       "    }\n",
       "\n",
       "    .dataframe tbody tr th {\n",
       "        vertical-align: top;\n",
       "    }\n",
       "\n",
       "    .dataframe thead th {\n",
       "        text-align: right;\n",
       "    }\n",
       "</style>\n",
       "<table border=\"1\" class=\"dataframe\">\n",
       "  <thead>\n",
       "    <tr style=\"text-align: right;\">\n",
       "      <th></th>\n",
       "      <th>tc</th>\n",
       "      <th>cres</th>\n",
       "      <th>csor</th>\n",
       "      <th>istat</th>\n",
       "      <th>area</th>\n",
       "      <th>pop</th>\n",
       "      <th>alt</th>\n",
       "      <th>isle</th>\n",
       "      <th>sea</th>\n",
       "      <th>pden</th>\n",
       "      <th>...</th>\n",
       "      <th>roads</th>\n",
       "      <th>s_wteregio</th>\n",
       "      <th>s_landfill</th>\n",
       "      <th>gdp</th>\n",
       "      <th>proads</th>\n",
       "      <th>wage</th>\n",
       "      <th>finance</th>\n",
       "      <th>region</th>\n",
       "      <th>province</th>\n",
       "      <th>fee</th>\n",
       "    </tr>\n",
       "  </thead>\n",
       "  <tbody>\n",
       "    <tr>\n",
       "      <th>1</th>\n",
       "      <td>228.050003</td>\n",
       "      <td>49.520000</td>\n",
       "      <td>44.139999</td>\n",
       "      <td>38011</td>\n",
       "      <td>34.439999</td>\n",
       "      <td>4952</td>\n",
       "      <td>1.0</td>\n",
       "      <td>0.0</td>\n",
       "      <td>1.0</td>\n",
       "      <td>143.786301</td>\n",
       "      <td>...</td>\n",
       "      <td>11.0</td>\n",
       "      <td>33.105049</td>\n",
       "      <td>15.233530</td>\n",
       "      <td>7.109984</td>\n",
       "      <td>6.082588</td>\n",
       "      <td>9.510139</td>\n",
       "      <td>7.323284</td>\n",
       "      <td>4</td>\n",
       "      <td>30</td>\n",
       "      <td>0</td>\n",
       "    </tr>\n",
       "    <tr>\n",
       "      <th>2</th>\n",
       "      <td>268.010010</td>\n",
       "      <td>50.610001</td>\n",
       "      <td>44.599998</td>\n",
       "      <td>38025</td>\n",
       "      <td>26.620001</td>\n",
       "      <td>3895</td>\n",
       "      <td>1.0</td>\n",
       "      <td>0.0</td>\n",
       "      <td>1.0</td>\n",
       "      <td>146.318558</td>\n",
       "      <td>...</td>\n",
       "      <td>49.0</td>\n",
       "      <td>33.105049</td>\n",
       "      <td>15.233530</td>\n",
       "      <td>7.267856</td>\n",
       "      <td>4.335555</td>\n",
       "      <td>8.891356</td>\n",
       "      <td>7.485891</td>\n",
       "      <td>4</td>\n",
       "      <td>30</td>\n",
       "      <td>0</td>\n",
       "    </tr>\n",
       "    <tr>\n",
       "      <th>3</th>\n",
       "      <td>199.089996</td>\n",
       "      <td>41.110001</td>\n",
       "      <td>40.439999</td>\n",
       "      <td>38014</td>\n",
       "      <td>84.300003</td>\n",
       "      <td>7140</td>\n",
       "      <td>1.0</td>\n",
       "      <td>0.0</td>\n",
       "      <td>1.0</td>\n",
       "      <td>84.697502</td>\n",
       "      <td>...</td>\n",
       "      <td>165.0</td>\n",
       "      <td>33.105049</td>\n",
       "      <td>15.233530</td>\n",
       "      <td>7.085936</td>\n",
       "      <td>3.710479</td>\n",
       "      <td>9.433685</td>\n",
       "      <td>7.298514</td>\n",
       "      <td>4</td>\n",
       "      <td>30</td>\n",
       "      <td>0</td>\n",
       "    </tr>\n",
       "    <tr>\n",
       "      <th>4</th>\n",
       "      <td>233.639999</td>\n",
       "      <td>58.270000</td>\n",
       "      <td>25.950001</td>\n",
       "      <td>110005</td>\n",
       "      <td>35.700001</td>\n",
       "      <td>12193</td>\n",
       "      <td>1.0</td>\n",
       "      <td>0.0</td>\n",
       "      <td>1.0</td>\n",
       "      <td>341.540619</td>\n",
       "      <td>...</td>\n",
       "      <td>60.0</td>\n",
       "      <td>4.046452</td>\n",
       "      <td>45.411903</td>\n",
       "      <td>7.247444</td>\n",
       "      <td>5.274037</td>\n",
       "      <td>9.125561</td>\n",
       "      <td>7.464867</td>\n",
       "      <td>11</td>\n",
       "      <td>8</td>\n",
       "      <td>1</td>\n",
       "    </tr>\n",
       "    <tr>\n",
       "      <th>5</th>\n",
       "      <td>232.509995</td>\n",
       "      <td>44.160000</td>\n",
       "      <td>50.049999</td>\n",
       "      <td>38010</td>\n",
       "      <td>108.339996</td>\n",
       "      <td>3003</td>\n",
       "      <td>1.0</td>\n",
       "      <td>0.0</td>\n",
       "      <td>0.0</td>\n",
       "      <td>27.718296</td>\n",
       "      <td>...</td>\n",
       "      <td>65.0</td>\n",
       "      <td>33.105049</td>\n",
       "      <td>15.233530</td>\n",
       "      <td>7.782785</td>\n",
       "      <td>3.776468</td>\n",
       "      <td>9.502230</td>\n",
       "      <td>8.016269</td>\n",
       "      <td>4</td>\n",
       "      <td>30</td>\n",
       "      <td>0</td>\n",
       "    </tr>\n",
       "    <tr>\n",
       "      <th>...</th>\n",
       "      <td>...</td>\n",
       "      <td>...</td>\n",
       "      <td>...</td>\n",
       "      <td>...</td>\n",
       "      <td>...</td>\n",
       "      <td>...</td>\n",
       "      <td>...</td>\n",
       "      <td>...</td>\n",
       "      <td>...</td>\n",
       "      <td>...</td>\n",
       "      <td>...</td>\n",
       "      <td>...</td>\n",
       "      <td>...</td>\n",
       "      <td>...</td>\n",
       "      <td>...</td>\n",
       "      <td>...</td>\n",
       "      <td>...</td>\n",
       "      <td>...</td>\n",
       "      <td>...</td>\n",
       "      <td>...</td>\n",
       "      <td>...</td>\n",
       "    </tr>\n",
       "    <tr>\n",
       "      <th>4330</th>\n",
       "      <td>977.419983</td>\n",
       "      <td>469.290009</td>\n",
       "      <td>57.480000</td>\n",
       "      <td>16103</td>\n",
       "      <td>16.139999</td>\n",
       "      <td>202</td>\n",
       "      <td>1508.0</td>\n",
       "      <td>0.0</td>\n",
       "      <td>0.0</td>\n",
       "      <td>12.515490</td>\n",
       "      <td>...</td>\n",
       "      <td>20.0</td>\n",
       "      <td>38.501492</td>\n",
       "      <td>4.551430</td>\n",
       "      <td>10.538720</td>\n",
       "      <td>2.224623</td>\n",
       "      <td>9.505127</td>\n",
       "      <td>10.854882</td>\n",
       "      <td>8</td>\n",
       "      <td>11</td>\n",
       "      <td>1</td>\n",
       "    </tr>\n",
       "    <tr>\n",
       "      <th>4331</th>\n",
       "      <td>132.809998</td>\n",
       "      <td>32.380001</td>\n",
       "      <td>71.739998</td>\n",
       "      <td>21027</td>\n",
       "      <td>209.649994</td>\n",
       "      <td>2423</td>\n",
       "      <td>1520.0</td>\n",
       "      <td>0.0</td>\n",
       "      <td>0.0</td>\n",
       "      <td>11.557358</td>\n",
       "      <td>...</td>\n",
       "      <td>52.0</td>\n",
       "      <td>18.539640</td>\n",
       "      <td>11.318043</td>\n",
       "      <td>8.413345</td>\n",
       "      <td>3.819020</td>\n",
       "      <td>9.599592</td>\n",
       "      <td>8.665746</td>\n",
       "      <td>15</td>\n",
       "      <td>14</td>\n",
       "      <td>0</td>\n",
       "    </tr>\n",
       "    <tr>\n",
       "      <th>4332</th>\n",
       "      <td>156.429993</td>\n",
       "      <td>62.910000</td>\n",
       "      <td>63.680000</td>\n",
       "      <td>21089</td>\n",
       "      <td>56.240002</td>\n",
       "      <td>2660</td>\n",
       "      <td>1563.0</td>\n",
       "      <td>0.0</td>\n",
       "      <td>0.0</td>\n",
       "      <td>47.297295</td>\n",
       "      <td>...</td>\n",
       "      <td>40.0</td>\n",
       "      <td>18.539640</td>\n",
       "      <td>11.318043</td>\n",
       "      <td>8.609627</td>\n",
       "      <td>4.187419</td>\n",
       "      <td>10.174608</td>\n",
       "      <td>8.867916</td>\n",
       "      <td>15</td>\n",
       "      <td>14</td>\n",
       "      <td>0</td>\n",
       "    </tr>\n",
       "    <tr>\n",
       "      <th>4333</th>\n",
       "      <td>370.880005</td>\n",
       "      <td>89.139999</td>\n",
       "      <td>260.179993</td>\n",
       "      <td>21026</td>\n",
       "      <td>38.840000</td>\n",
       "      <td>1320</td>\n",
       "      <td>1568.0</td>\n",
       "      <td>0.0</td>\n",
       "      <td>0.0</td>\n",
       "      <td>33.985580</td>\n",
       "      <td>...</td>\n",
       "      <td>66.0</td>\n",
       "      <td>18.539640</td>\n",
       "      <td>11.318043</td>\n",
       "      <td>8.750687</td>\n",
       "      <td>3.039358</td>\n",
       "      <td>10.249179</td>\n",
       "      <td>9.013207</td>\n",
       "      <td>15</td>\n",
       "      <td>14</td>\n",
       "      <td>0</td>\n",
       "    </tr>\n",
       "    <tr>\n",
       "      <th>4334</th>\n",
       "      <td>319.989990</td>\n",
       "      <td>219.429993</td>\n",
       "      <td>67.480003</td>\n",
       "      <td>14037</td>\n",
       "      <td>227.289993</td>\n",
       "      <td>5976</td>\n",
       "      <td>1816.0</td>\n",
       "      <td>0.0</td>\n",
       "      <td>0.0</td>\n",
       "      <td>26.292402</td>\n",
       "      <td>...</td>\n",
       "      <td>76.0</td>\n",
       "      <td>38.501492</td>\n",
       "      <td>4.551430</td>\n",
       "      <td>8.463772</td>\n",
       "      <td>4.451475</td>\n",
       "      <td>9.763460</td>\n",
       "      <td>8.717685</td>\n",
       "      <td>8</td>\n",
       "      <td>84</td>\n",
       "      <td>0</td>\n",
       "    </tr>\n",
       "  </tbody>\n",
       "</table>\n",
       "<p>4247 rows × 38 columns</p>\n",
       "</div>"
      ],
      "text/plain": [
       "              tc        cres        csor   istat        area    pop     alt  \\\n",
       "1     228.050003   49.520000   44.139999   38011   34.439999   4952     1.0   \n",
       "2     268.010010   50.610001   44.599998   38025   26.620001   3895     1.0   \n",
       "3     199.089996   41.110001   40.439999   38014   84.300003   7140     1.0   \n",
       "4     233.639999   58.270000   25.950001  110005   35.700001  12193     1.0   \n",
       "5     232.509995   44.160000   50.049999   38010  108.339996   3003     1.0   \n",
       "...          ...         ...         ...     ...         ...    ...     ...   \n",
       "4330  977.419983  469.290009   57.480000   16103   16.139999    202  1508.0   \n",
       "4331  132.809998   32.380001   71.739998   21027  209.649994   2423  1520.0   \n",
       "4332  156.429993   62.910000   63.680000   21089   56.240002   2660  1563.0   \n",
       "4333  370.880005   89.139999  260.179993   21026   38.840000   1320  1568.0   \n",
       "4334  319.989990  219.429993   67.480003   14037  227.289993   5976  1816.0   \n",
       "\n",
       "      isle  sea        pden  ...  roads  s_wteregio  s_landfill        gdp  \\\n",
       "1      0.0  1.0  143.786301  ...   11.0   33.105049   15.233530   7.109984   \n",
       "2      0.0  1.0  146.318558  ...   49.0   33.105049   15.233530   7.267856   \n",
       "3      0.0  1.0   84.697502  ...  165.0   33.105049   15.233530   7.085936   \n",
       "4      0.0  1.0  341.540619  ...   60.0    4.046452   45.411903   7.247444   \n",
       "5      0.0  0.0   27.718296  ...   65.0   33.105049   15.233530   7.782785   \n",
       "...    ...  ...         ...  ...    ...         ...         ...        ...   \n",
       "4330   0.0  0.0   12.515490  ...   20.0   38.501492    4.551430  10.538720   \n",
       "4331   0.0  0.0   11.557358  ...   52.0   18.539640   11.318043   8.413345   \n",
       "4332   0.0  0.0   47.297295  ...   40.0   18.539640   11.318043   8.609627   \n",
       "4333   0.0  0.0   33.985580  ...   66.0   18.539640   11.318043   8.750687   \n",
       "4334   0.0  0.0   26.292402  ...   76.0   38.501492    4.551430   8.463772   \n",
       "\n",
       "        proads       wage    finance  region  province  fee  \n",
       "1     6.082588   9.510139   7.323284       4        30    0  \n",
       "2     4.335555   8.891356   7.485891       4        30    0  \n",
       "3     3.710479   9.433685   7.298514       4        30    0  \n",
       "4     5.274037   9.125561   7.464867      11         8    1  \n",
       "5     3.776468   9.502230   8.016269       4        30    0  \n",
       "...        ...        ...        ...     ...       ...  ...  \n",
       "4330  2.224623   9.505127  10.854882       8        11    1  \n",
       "4331  3.819020   9.599592   8.665746      15        14    0  \n",
       "4332  4.187419  10.174608   8.867916      15        14    0  \n",
       "4333  3.039358  10.249179   9.013207      15        14    0  \n",
       "4334  4.451475   9.763460   8.717685       8        84    0  \n",
       "\n",
       "[4247 rows x 38 columns]"
      ]
     },
     "execution_count": 33,
     "metadata": {},
     "output_type": "execute_result"
    }
   ],
   "source": [
    "data"
   ]
  },
  {
   "cell_type": "markdown",
   "id": "65e6dd9e",
   "metadata": {},
   "source": [
    "## Data Modelling"
   ]
  },
  {
   "cell_type": "markdown",
   "id": "6d02e912",
   "metadata": {},
   "source": [
    "#### Assigning train and test columns to X and y"
   ]
  },
  {
   "cell_type": "code",
   "execution_count": 34,
   "id": "95230567",
   "metadata": {},
   "outputs": [],
   "source": [
    "X = data.drop('finance',axis=1)\n",
    "y = data['finance']"
   ]
  },
  {
   "cell_type": "code",
   "execution_count": 35,
   "id": "b096ed1a",
   "metadata": {},
   "outputs": [
    {
     "data": {
      "text/html": [
       "<div>\n",
       "<style scoped>\n",
       "    .dataframe tbody tr th:only-of-type {\n",
       "        vertical-align: middle;\n",
       "    }\n",
       "\n",
       "    .dataframe tbody tr th {\n",
       "        vertical-align: top;\n",
       "    }\n",
       "\n",
       "    .dataframe thead th {\n",
       "        text-align: right;\n",
       "    }\n",
       "</style>\n",
       "<table border=\"1\" class=\"dataframe\">\n",
       "  <thead>\n",
       "    <tr style=\"text-align: right;\">\n",
       "      <th></th>\n",
       "      <th>tc</th>\n",
       "      <th>cres</th>\n",
       "      <th>csor</th>\n",
       "      <th>istat</th>\n",
       "      <th>area</th>\n",
       "      <th>pop</th>\n",
       "      <th>alt</th>\n",
       "      <th>isle</th>\n",
       "      <th>sea</th>\n",
       "      <th>pden</th>\n",
       "      <th>...</th>\n",
       "      <th>geo</th>\n",
       "      <th>roads</th>\n",
       "      <th>s_wteregio</th>\n",
       "      <th>s_landfill</th>\n",
       "      <th>gdp</th>\n",
       "      <th>proads</th>\n",
       "      <th>wage</th>\n",
       "      <th>region</th>\n",
       "      <th>province</th>\n",
       "      <th>fee</th>\n",
       "    </tr>\n",
       "  </thead>\n",
       "  <tbody>\n",
       "    <tr>\n",
       "      <th>1</th>\n",
       "      <td>228.050003</td>\n",
       "      <td>49.520000</td>\n",
       "      <td>44.139999</td>\n",
       "      <td>38011</td>\n",
       "      <td>34.439999</td>\n",
       "      <td>4952</td>\n",
       "      <td>1.0</td>\n",
       "      <td>0.0</td>\n",
       "      <td>1.0</td>\n",
       "      <td>143.786301</td>\n",
       "      <td>...</td>\n",
       "      <td>3.0</td>\n",
       "      <td>11.0</td>\n",
       "      <td>33.105049</td>\n",
       "      <td>15.233530</td>\n",
       "      <td>7.109984</td>\n",
       "      <td>6.082588</td>\n",
       "      <td>9.510139</td>\n",
       "      <td>4</td>\n",
       "      <td>30</td>\n",
       "      <td>0</td>\n",
       "    </tr>\n",
       "    <tr>\n",
       "      <th>2</th>\n",
       "      <td>268.010010</td>\n",
       "      <td>50.610001</td>\n",
       "      <td>44.599998</td>\n",
       "      <td>38025</td>\n",
       "      <td>26.620001</td>\n",
       "      <td>3895</td>\n",
       "      <td>1.0</td>\n",
       "      <td>0.0</td>\n",
       "      <td>1.0</td>\n",
       "      <td>146.318558</td>\n",
       "      <td>...</td>\n",
       "      <td>3.0</td>\n",
       "      <td>49.0</td>\n",
       "      <td>33.105049</td>\n",
       "      <td>15.233530</td>\n",
       "      <td>7.267856</td>\n",
       "      <td>4.335555</td>\n",
       "      <td>8.891356</td>\n",
       "      <td>4</td>\n",
       "      <td>30</td>\n",
       "      <td>0</td>\n",
       "    </tr>\n",
       "    <tr>\n",
       "      <th>3</th>\n",
       "      <td>199.089996</td>\n",
       "      <td>41.110001</td>\n",
       "      <td>40.439999</td>\n",
       "      <td>38014</td>\n",
       "      <td>84.300003</td>\n",
       "      <td>7140</td>\n",
       "      <td>1.0</td>\n",
       "      <td>0.0</td>\n",
       "      <td>1.0</td>\n",
       "      <td>84.697502</td>\n",
       "      <td>...</td>\n",
       "      <td>3.0</td>\n",
       "      <td>165.0</td>\n",
       "      <td>33.105049</td>\n",
       "      <td>15.233530</td>\n",
       "      <td>7.085936</td>\n",
       "      <td>3.710479</td>\n",
       "      <td>9.433685</td>\n",
       "      <td>4</td>\n",
       "      <td>30</td>\n",
       "      <td>0</td>\n",
       "    </tr>\n",
       "    <tr>\n",
       "      <th>4</th>\n",
       "      <td>233.639999</td>\n",
       "      <td>58.270000</td>\n",
       "      <td>25.950001</td>\n",
       "      <td>110005</td>\n",
       "      <td>35.700001</td>\n",
       "      <td>12193</td>\n",
       "      <td>1.0</td>\n",
       "      <td>0.0</td>\n",
       "      <td>1.0</td>\n",
       "      <td>341.540619</td>\n",
       "      <td>...</td>\n",
       "      <td>1.0</td>\n",
       "      <td>60.0</td>\n",
       "      <td>4.046452</td>\n",
       "      <td>45.411903</td>\n",
       "      <td>7.247444</td>\n",
       "      <td>5.274037</td>\n",
       "      <td>9.125561</td>\n",
       "      <td>11</td>\n",
       "      <td>8</td>\n",
       "      <td>1</td>\n",
       "    </tr>\n",
       "    <tr>\n",
       "      <th>5</th>\n",
       "      <td>232.509995</td>\n",
       "      <td>44.160000</td>\n",
       "      <td>50.049999</td>\n",
       "      <td>38010</td>\n",
       "      <td>108.339996</td>\n",
       "      <td>3003</td>\n",
       "      <td>1.0</td>\n",
       "      <td>0.0</td>\n",
       "      <td>0.0</td>\n",
       "      <td>27.718296</td>\n",
       "      <td>...</td>\n",
       "      <td>3.0</td>\n",
       "      <td>65.0</td>\n",
       "      <td>33.105049</td>\n",
       "      <td>15.233530</td>\n",
       "      <td>7.782785</td>\n",
       "      <td>3.776468</td>\n",
       "      <td>9.502230</td>\n",
       "      <td>4</td>\n",
       "      <td>30</td>\n",
       "      <td>0</td>\n",
       "    </tr>\n",
       "    <tr>\n",
       "      <th>...</th>\n",
       "      <td>...</td>\n",
       "      <td>...</td>\n",
       "      <td>...</td>\n",
       "      <td>...</td>\n",
       "      <td>...</td>\n",
       "      <td>...</td>\n",
       "      <td>...</td>\n",
       "      <td>...</td>\n",
       "      <td>...</td>\n",
       "      <td>...</td>\n",
       "      <td>...</td>\n",
       "      <td>...</td>\n",
       "      <td>...</td>\n",
       "      <td>...</td>\n",
       "      <td>...</td>\n",
       "      <td>...</td>\n",
       "      <td>...</td>\n",
       "      <td>...</td>\n",
       "      <td>...</td>\n",
       "      <td>...</td>\n",
       "      <td>...</td>\n",
       "    </tr>\n",
       "    <tr>\n",
       "      <th>4330</th>\n",
       "      <td>977.419983</td>\n",
       "      <td>469.290009</td>\n",
       "      <td>57.480000</td>\n",
       "      <td>16103</td>\n",
       "      <td>16.139999</td>\n",
       "      <td>202</td>\n",
       "      <td>1508.0</td>\n",
       "      <td>0.0</td>\n",
       "      <td>0.0</td>\n",
       "      <td>12.515490</td>\n",
       "      <td>...</td>\n",
       "      <td>3.0</td>\n",
       "      <td>20.0</td>\n",
       "      <td>38.501492</td>\n",
       "      <td>4.551430</td>\n",
       "      <td>10.538720</td>\n",
       "      <td>2.224623</td>\n",
       "      <td>9.505127</td>\n",
       "      <td>8</td>\n",
       "      <td>11</td>\n",
       "      <td>1</td>\n",
       "    </tr>\n",
       "    <tr>\n",
       "      <th>4331</th>\n",
       "      <td>132.809998</td>\n",
       "      <td>32.380001</td>\n",
       "      <td>71.739998</td>\n",
       "      <td>21027</td>\n",
       "      <td>209.649994</td>\n",
       "      <td>2423</td>\n",
       "      <td>1520.0</td>\n",
       "      <td>0.0</td>\n",
       "      <td>0.0</td>\n",
       "      <td>11.557358</td>\n",
       "      <td>...</td>\n",
       "      <td>3.0</td>\n",
       "      <td>52.0</td>\n",
       "      <td>18.539640</td>\n",
       "      <td>11.318043</td>\n",
       "      <td>8.413345</td>\n",
       "      <td>3.819020</td>\n",
       "      <td>9.599592</td>\n",
       "      <td>15</td>\n",
       "      <td>14</td>\n",
       "      <td>0</td>\n",
       "    </tr>\n",
       "    <tr>\n",
       "      <th>4332</th>\n",
       "      <td>156.429993</td>\n",
       "      <td>62.910000</td>\n",
       "      <td>63.680000</td>\n",
       "      <td>21089</td>\n",
       "      <td>56.240002</td>\n",
       "      <td>2660</td>\n",
       "      <td>1563.0</td>\n",
       "      <td>0.0</td>\n",
       "      <td>0.0</td>\n",
       "      <td>47.297295</td>\n",
       "      <td>...</td>\n",
       "      <td>3.0</td>\n",
       "      <td>40.0</td>\n",
       "      <td>18.539640</td>\n",
       "      <td>11.318043</td>\n",
       "      <td>8.609627</td>\n",
       "      <td>4.187419</td>\n",
       "      <td>10.174608</td>\n",
       "      <td>15</td>\n",
       "      <td>14</td>\n",
       "      <td>0</td>\n",
       "    </tr>\n",
       "    <tr>\n",
       "      <th>4333</th>\n",
       "      <td>370.880005</td>\n",
       "      <td>89.139999</td>\n",
       "      <td>260.179993</td>\n",
       "      <td>21026</td>\n",
       "      <td>38.840000</td>\n",
       "      <td>1320</td>\n",
       "      <td>1568.0</td>\n",
       "      <td>0.0</td>\n",
       "      <td>0.0</td>\n",
       "      <td>33.985580</td>\n",
       "      <td>...</td>\n",
       "      <td>3.0</td>\n",
       "      <td>66.0</td>\n",
       "      <td>18.539640</td>\n",
       "      <td>11.318043</td>\n",
       "      <td>8.750687</td>\n",
       "      <td>3.039358</td>\n",
       "      <td>10.249179</td>\n",
       "      <td>15</td>\n",
       "      <td>14</td>\n",
       "      <td>0</td>\n",
       "    </tr>\n",
       "    <tr>\n",
       "      <th>4334</th>\n",
       "      <td>319.989990</td>\n",
       "      <td>219.429993</td>\n",
       "      <td>67.480003</td>\n",
       "      <td>14037</td>\n",
       "      <td>227.289993</td>\n",
       "      <td>5976</td>\n",
       "      <td>1816.0</td>\n",
       "      <td>0.0</td>\n",
       "      <td>0.0</td>\n",
       "      <td>26.292402</td>\n",
       "      <td>...</td>\n",
       "      <td>3.0</td>\n",
       "      <td>76.0</td>\n",
       "      <td>38.501492</td>\n",
       "      <td>4.551430</td>\n",
       "      <td>8.463772</td>\n",
       "      <td>4.451475</td>\n",
       "      <td>9.763460</td>\n",
       "      <td>8</td>\n",
       "      <td>84</td>\n",
       "      <td>0</td>\n",
       "    </tr>\n",
       "  </tbody>\n",
       "</table>\n",
       "<p>4247 rows × 37 columns</p>\n",
       "</div>"
      ],
      "text/plain": [
       "              tc        cres        csor   istat        area    pop     alt  \\\n",
       "1     228.050003   49.520000   44.139999   38011   34.439999   4952     1.0   \n",
       "2     268.010010   50.610001   44.599998   38025   26.620001   3895     1.0   \n",
       "3     199.089996   41.110001   40.439999   38014   84.300003   7140     1.0   \n",
       "4     233.639999   58.270000   25.950001  110005   35.700001  12193     1.0   \n",
       "5     232.509995   44.160000   50.049999   38010  108.339996   3003     1.0   \n",
       "...          ...         ...         ...     ...         ...    ...     ...   \n",
       "4330  977.419983  469.290009   57.480000   16103   16.139999    202  1508.0   \n",
       "4331  132.809998   32.380001   71.739998   21027  209.649994   2423  1520.0   \n",
       "4332  156.429993   62.910000   63.680000   21089   56.240002   2660  1563.0   \n",
       "4333  370.880005   89.139999  260.179993   21026   38.840000   1320  1568.0   \n",
       "4334  319.989990  219.429993   67.480003   14037  227.289993   5976  1816.0   \n",
       "\n",
       "      isle  sea        pden  ...  geo  roads  s_wteregio  s_landfill  \\\n",
       "1      0.0  1.0  143.786301  ...  3.0   11.0   33.105049   15.233530   \n",
       "2      0.0  1.0  146.318558  ...  3.0   49.0   33.105049   15.233530   \n",
       "3      0.0  1.0   84.697502  ...  3.0  165.0   33.105049   15.233530   \n",
       "4      0.0  1.0  341.540619  ...  1.0   60.0    4.046452   45.411903   \n",
       "5      0.0  0.0   27.718296  ...  3.0   65.0   33.105049   15.233530   \n",
       "...    ...  ...         ...  ...  ...    ...         ...         ...   \n",
       "4330   0.0  0.0   12.515490  ...  3.0   20.0   38.501492    4.551430   \n",
       "4331   0.0  0.0   11.557358  ...  3.0   52.0   18.539640   11.318043   \n",
       "4332   0.0  0.0   47.297295  ...  3.0   40.0   18.539640   11.318043   \n",
       "4333   0.0  0.0   33.985580  ...  3.0   66.0   18.539640   11.318043   \n",
       "4334   0.0  0.0   26.292402  ...  3.0   76.0   38.501492    4.551430   \n",
       "\n",
       "            gdp    proads       wage  region  province  fee  \n",
       "1      7.109984  6.082588   9.510139       4        30    0  \n",
       "2      7.267856  4.335555   8.891356       4        30    0  \n",
       "3      7.085936  3.710479   9.433685       4        30    0  \n",
       "4      7.247444  5.274037   9.125561      11         8    1  \n",
       "5      7.782785  3.776468   9.502230       4        30    0  \n",
       "...         ...       ...        ...     ...       ...  ...  \n",
       "4330  10.538720  2.224623   9.505127       8        11    1  \n",
       "4331   8.413345  3.819020   9.599592      15        14    0  \n",
       "4332   8.609627  4.187419  10.174608      15        14    0  \n",
       "4333   8.750687  3.039358  10.249179      15        14    0  \n",
       "4334   8.463772  4.451475   9.763460       8        84    0  \n",
       "\n",
       "[4247 rows x 37 columns]"
      ]
     },
     "execution_count": 35,
     "metadata": {},
     "output_type": "execute_result"
    }
   ],
   "source": [
    "X"
   ]
  },
  {
   "cell_type": "code",
   "execution_count": 36,
   "id": "9f6b3d0e",
   "metadata": {},
   "outputs": [
    {
     "data": {
      "text/plain": [
       "1        7.323284\n",
       "2        7.485891\n",
       "3        7.298514\n",
       "4        7.464867\n",
       "5        8.016269\n",
       "          ...    \n",
       "4330    10.854882\n",
       "4331     8.665746\n",
       "4332     8.867916\n",
       "4333     9.013207\n",
       "4334     8.717685\n",
       "Name: finance, Length: 4247, dtype: float64"
      ]
     },
     "execution_count": 36,
     "metadata": {},
     "output_type": "execute_result"
    }
   ],
   "source": [
    "y"
   ]
  },
  {
   "cell_type": "markdown",
   "id": "bcfac585",
   "metadata": {},
   "source": [
    "#### Splitting the price_train dataset into training and testing"
   ]
  },
  {
   "cell_type": "code",
   "execution_count": 253,
   "id": "87c833b3",
   "metadata": {},
   "outputs": [],
   "source": [
    "X_train,X_test,y_train,y_test=train_test_split(X,y,test_size=0.8,random_state=56)"
   ]
  },
  {
   "cell_type": "markdown",
   "id": "c813235e",
   "metadata": {},
   "source": [
    "#### Decision Trees"
   ]
  },
  {
   "cell_type": "code",
   "execution_count": 276,
   "id": "d04ecb56",
   "metadata": {},
   "outputs": [
    {
     "name": "stdout",
     "output_type": "stream",
     "text": [
      "0.9839235099251359\n"
     ]
    }
   ],
   "source": [
    "decision_tree = DecisionTreeRegressor()\n",
    "decision_tree.fit(X_train, y_train)\n",
    "y_pred = decision_tree.predict(X_test)\n",
    "print(r2_score(y_test, y_pred))"
   ]
  },
  {
   "cell_type": "markdown",
   "id": "711c7e16",
   "metadata": {},
   "source": [
    "#### Random Forests"
   ]
  },
  {
   "cell_type": "code",
   "execution_count": 78,
   "id": "0b172471",
   "metadata": {},
   "outputs": [
    {
     "name": "stdout",
     "output_type": "stream",
     "text": [
      "0.9997252441208312\n"
     ]
    }
   ],
   "source": [
    "random_forest = RandomForestRegressor()\n",
    "random_forest.fit(X_train, y_train)\n",
    "y_pred = random_forest.predict(X_test)\n",
    "print(r2_score(y_test, y_pred))"
   ]
  },
  {
   "cell_type": "markdown",
   "id": "07f37b41",
   "metadata": {},
   "source": [
    "#### Linera Regression"
   ]
  },
  {
   "cell_type": "code",
   "execution_count": 40,
   "id": "2edc141e",
   "metadata": {},
   "outputs": [
    {
     "name": "stdout",
     "output_type": "stream",
     "text": [
      "1.0\n"
     ]
    }
   ],
   "source": [
    "ligreg = LinearRegression()\n",
    "ligreg.fit(X_train, y_train)\n",
    "y_pred = ligreg.predict(X_test)\n",
    "print(r2_score(y_test, y_pred))"
   ]
  }
 ],
 "metadata": {
  "kernelspec": {
   "display_name": "Python 3 (ipykernel)",
   "language": "python",
   "name": "python3"
  },
  "language_info": {
   "codemirror_mode": {
    "name": "ipython",
    "version": 3
   },
   "file_extension": ".py",
   "mimetype": "text/x-python",
   "name": "python",
   "nbconvert_exporter": "python",
   "pygments_lexer": "ipython3",
   "version": "3.9.7"
  }
 },
 "nbformat": 4,
 "nbformat_minor": 5
}
